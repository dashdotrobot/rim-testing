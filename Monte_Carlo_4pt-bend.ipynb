{
 "cells": [
  {
   "cell_type": "code",
   "execution_count": 1,
   "metadata": {
    "collapsed": true
   },
   "outputs": [],
   "source": [
    "# Setup\n",
    "%matplotlib inline\n",
    "from sympy import *\n",
    "import numpy as np\n",
    "import matplotlib.pyplot as pp\n",
    "init_printing()"
   ]
  },
  {
   "cell_type": "code",
   "execution_count": 2,
   "metadata": {
    "collapsed": true
   },
   "outputs": [],
   "source": [
    "# Define all measured variables and their uncertainties\n",
    "\n",
    "R = (0.276, 0.01*0.276)    # rim radius\n",
    "\n",
    "D_L = (35.25, 0.01*35.25)  # optical lever distance\n",
    "H_L = (2.55, 0.01*2.55)    # optical lever height\n",
    "Y_0 = (12.00, 0.01*12.00)  # optical grid initial height\n",
    "\n",
    "Y = (-2.00, 0.05)          # y-position of laser spot\n",
    "P = (35.183, 0.01*35.183)  # load\n",
    "U = (10.236, 0.001*25.4)   # deflection"
   ]
  },
  {
   "cell_type": "code",
   "execution_count": 3,
   "metadata": {
    "collapsed": false
   },
   "outputs": [],
   "source": [
    "# Define functions for derived quantities\n",
    "\n",
    "def phi(y, d_l, h_l, y_0):\n",
    "    return -0.5*(np.arctan((y_0 + h_l + y)/d_l) -\n",
    "                 np.arctan((y_0 + h_l)/d_l))\n",
    "\n",
    "def f_alpha(p, u):\n",
    "    return p/(u/1000)\n",
    "\n",
    "def f_beta(phi, u):\n",
    "    return phi/(u/1000)\n",
    "\n",
    "def f_mu(r, beta):\n",
    "    return ((8*np.pi - 24)*r*beta+2-np.pi)/((2-np.pi)*(4*r*beta-1))\n"
   ]
  },
  {
   "cell_type": "code",
   "execution_count": 4,
   "metadata": {
    "collapsed": false
   },
   "outputs": [
    {
     "data": {
      "text/plain": [
       "(array([  12.,   36.,   92.,  181.,  232.,  219.,  125.,   69.,   29.,    5.]),\n",
       " array([ 2.23039019,  2.26893788,  2.30748557,  2.34603327,  2.38458096,\n",
       "         2.42312865,  2.46167634,  2.50022404,  2.53877173,  2.57731942,\n",
       "         2.61586712]),\n",
       " <a list of 10 Patch objects>)"
      ]
     },
     "execution_count": 4,
     "metadata": {},
     "output_type": "execute_result"
    },
    {
     "data": {
      "image/png": "[encoded data removed]",
      "text/plain": [
       "<matplotlib.figure.Figure at 0x71a8748>"
      ]
     },
     "metadata": {},
     "output_type": "display_data"
    }
   ],
   "source": [
    "# Monte Carlo simulation\n",
    "N_samp = 1000\n",
    "\n",
    "# Assume normal distributions for all quantities\n",
    "R_mc = R[0] + R[1]*np.random.randn(N_samp)\n",
    "\n",
    "D_L_mc = D_L[0] + D_L[1]*np.random.randn(N_samp)\n",
    "H_L_mc = H_L[0] + H_L[1]*np.random.randn(N_samp)\n",
    "Y_0_mc = Y_0[0] + Y_0[1]*np.random.randn(N_samp)\n",
    "\n",
    "Y_mc = Y[0] + Y[1]*np.random.randn(N_samp)\n",
    "P_mc = P[0] + P[1]*np.random.randn(N_samp)\n",
    "U_mc = U[0] + U[1]*np.random.randn(N_samp)\n",
    "\n",
    "# Calculate derived quantities\n",
    "PHI = phi(Y_mc, D_L_mc, H_L_mc, Y_0_mc)\n",
    "ALPHA = f_alpha(U_mc, U_mc)\n",
    "BETA = f_beta(PHI, U_mc)\n",
    "\n",
    "MU = f_mu(R_mc, BETA)\n",
    "\n",
    "pp.hist(BETA)"
   ]
  },
  {
   "cell_type": "code",
   "execution_count": null,
   "metadata": {
    "collapsed": true
   },
   "outputs": [],
   "source": []
  }
 ],
 "metadata": {
  "kernelspec": {
   "display_name": "Python 2",
   "language": "python",
   "name": "python2"
  },
  "language_info": {
   "codemirror_mode": {
    "name": "ipython",
    "version": 2
   },
   "file_extension": ".py",
   "mimetype": "text/x-python",
   "name": "python",
   "nbconvert_exporter": "python",
   "pygments_lexer": "ipython2",
   "version": "2.7.11"
  }
 },
 "nbformat": 4,
 "nbformat_minor": 0
}
