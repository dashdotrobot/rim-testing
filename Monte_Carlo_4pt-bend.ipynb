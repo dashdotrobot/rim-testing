{
 "cells": [
  {
   "cell_type": "code",
   "execution_count": 1,
   "metadata": {
    "collapsed": true
   },
   "outputs": [],
   "source": [
    "# Setup\n",
    "%matplotlib inline\n",
    "from sympy import *\n",
    "import numpy as np\n",
    "import matplotlib.pyplot as pp\n",
    "\n",
    "init_printing()"
   ]
  },
  {
   "cell_type": "code",
   "execution_count": 2,
   "metadata": {
    "collapsed": true
   },
   "outputs": [],
   "source": [
    "# Define all measured variables and their uncertainties\n",
    "\n",
    "R = (0.276, 0.01*0.276)    # rim radius\n",
    "\n",
    "D_L = (35.25, 0.01*35.25)  # optical lever distance\n",
    "H_L = (2.55, 0.01*2.55)    # optical lever height\n",
    "Y_0 = (12.00, 0.01*12.00)  # optical grid initial height\n",
    "\n",
    "Y = (-2.00, 0.05)          # y-position of laser spot\n",
    "P = (33.734, 0.01*35.183)  # load\n",
    "U = (10.236, 0.001*25.4)   # deflection"
   ]
  },
  {
   "cell_type": "code",
   "execution_count": 3,
   "metadata": {
    "collapsed": false
   },
   "outputs": [],
   "source": [
    "# Define functions for derived quantities\n",
    "\n",
    "def phi(y, d_l, h_l, y_0):\n",
    "    return -0.5*(np.arctan((y_0 - h_l + y)/d_l) -\n",
    "                 np.arctan((y_0 - h_l + 0.4)/d_l))\n",
    "\n",
    "def f_alpha(p, u):\n",
    "    return p/(u/1000)\n",
    "\n",
    "def f_beta(phi, u):\n",
    "    return phi/(u/1000)\n",
    "\n",
    "def f_mu(r, beta):\n",
    "    return ((8*np.pi - 24)*r*beta+2-np.pi)/((2-np.pi)*(4*r*beta-1))\n",
    "\n",
    "def f_EI(r, alpha, mu):\n",
    "    return r**3*alpha/(2*mu)*((np.pi-2)*mu + 2*np.pi - 6)\n",
    "\n",
    "def f_GJ(r, alpha, mu):\n",
    "    return r**3*alpha/2*((np.pi-2)*mu + 2*np.pi - 6)"
   ]
  },
  {
   "cell_type": "code",
   "execution_count": 4,
   "metadata": {
    "collapsed": false
   },
   "outputs": [],
   "source": [
    "# Monte Carlo simulation\n",
    "N_samp = 10000\n",
    "\n",
    "# Assume normal distributions for all quantities\n",
    "R_mc = R[0] + R[1]*np.random.randn(N_samp)\n",
    "\n",
    "D_L_mc = D_L[0] + D_L[1]*np.random.randn(N_samp)\n",
    "H_L_mc = H_L[0] + H_L[1]*np.random.randn(N_samp)\n",
    "Y_0_mc = Y_0[0] + Y_0[1]*np.random.randn(N_samp)\n",
    "\n",
    "Y_mc = Y[0] + Y[1]*np.random.randn(N_samp)\n",
    "P_mc = P[0] + P[1]*np.random.randn(N_samp)\n",
    "U_mc = U[0] + U[1]*np.random.randn(N_samp)\n",
    "\n",
    "# Calculate derived quantities\n",
    "PHI = phi(Y_mc, D_L_mc, H_L_mc, Y_0_mc)\n",
    "ALPHA = f_alpha(P_mc, U_mc)\n",
    "BETA = f_beta(PHI, U_mc)\n",
    "\n",
    "MU = f_mu(R_mc, BETA)\n",
    "EI = f_EI(R_mc, ALPHA, MU)\n",
    "GJ = f_GJ(R_mc, ALPHA, MU)"
   ]
  },
  {
   "cell_type": "code",
   "execution_count": 5,
   "metadata": {
    "collapsed": false
   },
   "outputs": [
    {
     "name": "stdout",
     "output_type": "stream",
     "text": [
      "0.057669658088 0.0107452971735\n"
     ]
    },
    {
     "data": {
      "image/png": "[encoded data removed]",
      "text/plain": [
       "<matplotlib.figure.Figure at 0x4089240>"
      ]
     },
     "metadata": {},
     "output_type": "display_data"
    }
   ],
   "source": [
    "print np.mean(MU), np.std(MU)\n",
    "x = pp.hist(MU, 50)"
   ]
  },
  {
   "cell_type": "code",
   "execution_count": 6,
   "metadata": {
    "collapsed": false
   },
   "outputs": [
    {
     "name": "stdout",
     "output_type": "stream",
     "text": [
      "216.659615283 0.0107452971735\n"
     ]
    },
    {
     "data": {
      "image/png": "[encoded data removed]",
      "text/plain": [
       "<matplotlib.figure.Figure at 0x40892b0>"
      ]
     },
     "metadata": {},
     "output_type": "display_data"
    }
   ],
   "source": [
    "print np.mean(EI), np.std(MU)\n",
    "y = pp.hist(EI, 50)"
   ]
  },
  {
   "cell_type": "code",
   "execution_count": 7,
   "metadata": {
    "collapsed": false
   },
   "outputs": [
    {
     "name": "stdout",
     "output_type": "stream",
     "text": [
      "12.0998771616 0.454117385596 3.75307434556\n"
     ]
    },
    {
     "data": {
      "image/png": "[encoded data removed]",
      "text/plain": [
       "<matplotlib.figure.Figure at 0x87a1f28>"
      ]
     },
     "metadata": {},
     "output_type": "display_data"
    }
   ],
   "source": [
    "print np.mean(GJ), np.std(GJ), 100 * np.std(GJ) / np.mean(GJ)\n",
    "y = pp.hist(GJ, 50)"
   ]
  },
  {
   "cell_type": "code",
   "execution_count": 8,
   "metadata": {
    "collapsed": false
   },
   "outputs": [
    {
     "name": "stdout",
     "output_type": "stream",
     "text": [
      "    MEAN        STD         % ERR     \n",
      "MU  5.7670e-02  1.0745e-02   18.6\n",
      "EI  2.1666e+02  3.8796e+01   17.9\n",
      "GJ  1.2100e+01  4.5412e-01    3.8\n"
     ]
    }
   ],
   "source": [
    "s = '{:s}  {:.4e}  {:.4e}  {:>5.1f}'\n",
    "print '    {:10s}  {:10s}  {:10s}'.format('MEAN', 'STD', '% ERR')\n",
    "\n",
    "print s.format('MU', np.mean(MU), np.std(MU), 100 * np.std(MU) / np.mean(MU))\n",
    "print s.format('EI', np.mean(EI), np.std(EI), 100 * np.std(EI) / np.mean(EI))\n",
    "print s.format('GJ', np.mean(GJ), np.std(GJ), 100 * np.std(GJ) / np.mean(GJ))"
   ]
  },
  {
   "cell_type": "code",
   "execution_count": null,
   "metadata": {
    "collapsed": true
   },
   "outputs": [],
   "source": []
  }
 ],
 "metadata": {
  "kernelspec": {
   "display_name": "Python 2",
   "language": "python",
   "name": "python2"
  },
  "language_info": {
   "codemirror_mode": {
    "name": "ipython",
    "version": 2
   },
   "file_extension": ".py",
   "mimetype": "text/x-python",
   "name": "python",
   "nbconvert_exporter": "python",
   "pygments_lexer": "ipython2",
   "version": "2.7.11"
  }
 },
 "nbformat": 4,
 "nbformat_minor": 0
}
