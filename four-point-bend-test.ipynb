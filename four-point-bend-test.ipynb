{
 "cells": [
  {
   "cell_type": "markdown",
   "metadata": {},
   "source": [
    "# Four-point rim bending test\n",
    "\n",
    "In a four-point bending test, the rim is supported at 3 and 9 o'clock and loaded at 12 and 6 o'clock with a force $P$. A \"dummy torque\" $Q$ is applied at each point in the same sense as the rotation of the cross-section. Free-body diagrams of the complete rim and the upper section are shown below.\n",
    "\n",
    "![schematic](https://raw.githubusercontent.com/dashdotrobot/rim-testing/master/4-pt-bend-figures-01.png)\n",
    "\n",
    "The symmetry of the problem gives us the following conditions:\n",
    "$$V_1 = -V_2$$\n",
    "$$T_1 = T_2$$\n",
    "$$M_1 = M_2$$\n",
    "\n",
    "Sum of forces in the $z$ direction gives\n",
    "$$\\sum F_z = V_1 - V_2 - P=0$$\n",
    "$$V_1 = \\frac{P}{2}$$\n",
    "\n",
    "Sum of moments at the right end about the y-axis gives\n",
    "$$\\sum_{(2)} M_y = -T_1-T_2+2V_1 R-PR=0$$\n",
    "$$T_1 = T_2 = 0$$\n",
    "\n",
    "Sum of moments at the right end about the x-axis gives\n",
    "$$\\sum_{(2)} M_x = M_1+M_2-PR-Q=0$$\n",
    "$$M_1 = \\frac{PR}{2} + \\frac{Q}{2}$$\n",
    "\n",
    "The internal forces can now be determined by making a cut at an arbitrary location $\\theta$.\n",
    "\n",
    "![schematic2](https://raw.githubusercontent.com/dashdotrobot/rim-testing/master/4-pt-bend-figures-02.png)"
   ]
  },
  {
   "cell_type": "code",
   "execution_count": null,
   "metadata": {
    "collapsed": true
   },
   "outputs": [],
   "source": []
  },
  {
   "cell_type": "code",
   "execution_count": 1,
   "metadata": {
    "collapsed": false
   },
   "outputs": [],
   "source": [
    "%matplotlib inline\n",
    "from sympy import *\n",
    "import matplotlib.pyplot as pp\n",
    "init_printing()\n",
    "\n",
    "t, m, P, Q, theta, R = symbols('t m P Q theta, R', real=true)\n",
    "EI, GJ = symbols('EI GJ', real=true, positive=true)"
   ]
  },
  {
   "cell_type": "markdown",
   "metadata": {},
   "source": [
    "# Internal moment and torque from statics"
   ]
  },
  {
   "cell_type": "code",
   "execution_count": 2,
   "metadata": {
    "collapsed": false
   },
   "outputs": [],
   "source": [
    "eq1 = t*sin(theta) - m*cos(theta) + P*R/2*(1 - sin(theta)) + Q/2\n",
    "eq2 = t*cos(theta) + m*sin(theta) + P*R/2*(1 - cos(theta))\n",
    "\n",
    "s_statics = solve([eq1, eq2], [t, m])\n",
    "\n",
    "t = s_statics[t]\n",
    "m = s_statics[m]"
   ]
  },
  {
   "cell_type": "markdown",
   "metadata": {},
   "source": [
    "# Get stiffness from Castigliano's method"
   ]
  },
  {
   "cell_type": "code",
   "execution_count": 3,
   "metadata": {
    "collapsed": false
   },
   "outputs": [],
   "source": [
    "# Strain energy in half the rim\n",
    "U = R*integrate(m**2/EI + t**2/GJ, (theta, 0, pi/2))\n",
    "\n",
    "u0 = diff(U, P).subs(Q, 0).simplify()\n",
    "phi0 = diff(U, Q).subs(Q, 0).simplify()"
   ]
  },
  {
   "cell_type": "markdown",
   "metadata": {},
   "source": [
    "## Displacement and rotation at load point"
   ]
  },
  {
   "cell_type": "code",
   "execution_count": 4,
   "metadata": {
    "collapsed": false,
    "scrolled": true
   },
   "outputs": [
    {
     "data": {
      "image/png": "[encoded data removed]",
      "text/latex": [
       "$$\\left ( - \\frac{P R^{3}}{4 EI GJ} \\left(2 EI \\left(- \\pi + 3\\right) + GJ \\left(- \\pi + 2\\right)\\right), \\quad - \\frac{P R^{2}}{8 EI GJ} \\left(- \\pi + 2\\right) \\left(EI + GJ\\right)\\right )$$"
      ],
      "text/plain": [
       "⎛    3                                     2                    ⎞\n",
       "⎜-P⋅R ⋅(2⋅EI⋅(-π + 3) + GJ⋅(-π + 2))   -P⋅R ⋅(-π + 2)⋅(EI + GJ) ⎟\n",
       "⎜────────────────────────────────────, ─────────────────────────⎟\n",
       "⎝              4⋅EI⋅GJ                          8⋅EI⋅GJ         ⎠"
      ]
     },
     "execution_count": 4,
     "metadata": {},
     "output_type": "execute_result"
    }
   ],
   "source": [
    "u0, phi0"
   ]
  },
  {
   "cell_type": "markdown",
   "metadata": {
    "collapsed": true
   },
   "source": [
    "# Approximation - 2nd mode"
   ]
  },
  {
   "cell_type": "code",
   "execution_count": 5,
   "metadata": {
    "collapsed": false
   },
   "outputs": [
    {
     "data": {
      "image/png": "[encoded data removed]",
      "text/latex": [
       "$$\\frac{2 P R^{3} \\left(EI + 4 GJ\\right)}{9 \\pi EI GJ}$$"
      ],
      "text/plain": [
       "     3            \n",
       "2⋅P⋅R ⋅(EI + 4⋅GJ)\n",
       "──────────────────\n",
       "    9⋅π⋅EI⋅GJ     "
      ]
     },
     "execution_count": 5,
     "metadata": {},
     "output_type": "execute_result"
    }
   ],
   "source": [
    "n = symbols('n')\n",
    "k_bend = pi*EI/R**3 * (n**2-1)**2\n",
    "k_tors = pi*GJ/R**3 * (n**2-1)**2*n**2\n",
    "\n",
    "k_rim_2 = (k_bend*k_tors/(k_bend + k_tors)).subs(n, 2).simplify()\n",
    "u0_2 = 8*P / k_rim_2\n",
    "\n",
    "u0_2"
   ]
  },
  {
   "cell_type": "code",
   "execution_count": 6,
   "metadata": {
    "collapsed": false
   },
   "outputs": [
    {
     "data": {
      "image/png": "[encoded data removed]",
      "text/latex": [
       "$$0.00088985705136309$$"
      ],
      "text/plain": [
       "0.000889857051363090"
      ]
     },
     "execution_count": 6,
     "metadata": {},
     "output_type": "execute_result"
    }
   ],
   "source": [
    "mu = symbols('mu')\n",
    "\n",
    "(1 - u0_2 / u0).subs([(EI, 1), (GJ, 0.001)]).evalf()"
   ]
  }
 ],
 "metadata": {
  "kernelspec": {
   "display_name": "Python 2",
   "language": "python",
   "name": "python2"
  },
  "language_info": {
   "codemirror_mode": {
    "name": "ipython",
    "version": 2
   },
   "file_extension": ".py",
   "mimetype": "text/x-python",
   "name": "python",
   "nbconvert_exporter": "python",
   "pygments_lexer": "ipython2",
   "version": "2.7.11"
  }
 },
 "nbformat": 4,
 "nbformat_minor": 0
}
