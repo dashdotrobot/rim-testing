{
 "cells": [
  {
   "cell_type": "code",
   "execution_count": 1,
   "metadata": {
    "collapsed": false
   },
   "outputs": [],
   "source": [
    "# Setup\n",
    "%matplotlib inline\n",
    "from sympy import *\n",
    "import matplotlib.pyplot as pp\n",
    "init_printing()\n",
    "\n",
    "t, m, P, Q, theta, R = symbols('t m P Q theta, R', real=true)\n",
    "EI, GJ = symbols('EI GJ', real=true, positive=true)"
   ]
  },
  {
   "cell_type": "markdown",
   "metadata": {},
   "source": [
    "# Four-point rim bending test\n",
    "\n",
    "In a four-point bending test, the rim is supported at 3 and 9 o'clock and loaded at 12 and 6 o'clock with a force $P$. A \"dummy torque\" $Q$ is applied at each point in the same sense as the rotation of the cross-section. Free-body diagrams of the complete rim and the upper section are shown below.\n",
    "\n",
    "![schematic1](https://raw.githubusercontent.com/dashdotrobot/rim-testing/master/4-pt-bend-figures-01.png)\n",
    "\n",
    "The symmetry of the problem gives us the following conditions:\n",
    "$$V_1 = -V_2$$\n",
    "$$T_1 = T_2$$\n",
    "$$M_1 = M_2$$\n",
    "\n",
    "Sum of forces in the z direction gives\n",
    "$$\\sum F_z = V_1 - V_2 - P=0$$\n",
    "$$V_1 = \\frac{P}{2}$$\n",
    "\n",
    "Sum of moments at the right end about the y-axis gives\n",
    "$$\\sum_{(2)} M_y = -T_1-T_2+2V_1 R-PR=0$$\n",
    "$$T_1 = T_2 = 0$$\n",
    "\n",
    "Sum of moments at the right end about the x-axis gives\n",
    "$$\\sum_{(2)} M_x = M_1+M_2-PR-Q=0$$\n",
    "$$M_1 = \\frac{PR}{2} + \\frac{Q}{2}$$\n",
    "\n",
    "The internal forces can now be determined by making a cut at an arbitrary location $\\theta$.\n",
    "\n",
    "![schematic2](https://raw.githubusercontent.com/dashdotrobot/rim-testing/master/4-pt-bend-figures-02.png)\n",
    "\n",
    "Sum of forces in the z direction gives\n",
    "$$\\sum F_z = V_1 - V=0$$\n",
    "$$V = \\frac{P}{2}$$\n",
    "\n",
    "Sum of moments at the left end about the x-axis gives\n",
    "$$\\sum_{(1)} M_x = M_1+T\\sin{\\theta}-M\\cos{\\theta}-\\frac{PR}{2}\\sin{\\theta}=0$$\n",
    "\n",
    "Sum of moments at the left end about the y-axis gives\n",
    "$$\\sum_{(1)} M_y = T\\cos{\\theta}+M\\sin{\\theta}+\\frac{PR}{2}(1-\\cos{\\theta})=0$$"
   ]
  },
  {
   "cell_type": "markdown",
   "metadata": {},
   "source": [
    "### Internal moment and torque from statics\n",
    "\n",
    "Together, the moment balances above form a simultaneous linear system for $T$ and $M$.\n",
    "\n",
    "$$T\\sin{\\theta}-M\\cos{\\theta}=\\frac{PR}{2}\\sin{\\theta}-\\frac{PR}{2}-\\frac{Q}{2}$$\n",
    "\n",
    "$$T\\cos{\\theta}+M\\sin{\\theta}+\\frac{PR}{2}(1-\\cos{\\theta})=0$$"
   ]
  },
  {
   "cell_type": "code",
   "execution_count": 2,
   "metadata": {
    "collapsed": false
   },
   "outputs": [
    {
     "data": {
      "image/png": "[encoded data removed]",
      "text/latex": [
       "$$\\left ( - \\frac{P R}{2} \\sqrt{2} \\sin{\\left (\\theta + \\frac{\\pi}{4} \\right )} + \\frac{P R}{2} - \\frac{Q}{2} \\sin{\\left (\\theta \\right )}, \\quad \\frac{P R}{2} \\sqrt{2} \\cos{\\left (\\theta + \\frac{\\pi}{4} \\right )} + \\frac{Q}{2} \\cos{\\left (\\theta \\right )}\\right )$$"
      ],
      "text/plain": [
       "⎛    ___        ⎛    π⎞                     ___        ⎛    π⎞           ⎞\n",
       "⎜  ╲╱ 2 ⋅P⋅R⋅sin⎜θ + ─⎟                   ╲╱ 2 ⋅P⋅R⋅cos⎜θ + ─⎟           ⎟\n",
       "⎜               ⎝    4⎠   P⋅R   Q⋅sin(θ)               ⎝    4⎠   Q⋅cos(θ)⎟\n",
       "⎜- ──────────────────── + ─── - ────────, ──────────────────── + ────────⎟\n",
       "⎝           2              2       2               2                2    ⎠"
      ]
     },
     "execution_count": 2,
     "metadata": {},
     "output_type": "execute_result"
    }
   ],
   "source": [
    "eq1 = t*sin(theta) - m*cos(theta) + P*R/2*(1 - sin(theta)) + Q/2\n",
    "eq2 = t*cos(theta) + m*sin(theta) + P*R/2*(1 - cos(theta))\n",
    "\n",
    "s_statics = solve([eq1, eq2], [t, m])\n",
    "\n",
    "t = s_statics[t]\n",
    "m = s_statics[m]\n",
    "t, m"
   ]
  },
  {
   "cell_type": "markdown",
   "metadata": {},
   "source": [
    "### Get Displacement and rotation from Castigliano's method\n",
    "\n",
    "The strain energy in the upper half of the rim is given by\n",
    "\n",
    "$$U = 2\\int_0^{\\pi/2} \\left(\\frac{M^2}{2EI} + \\frac{T^2}{2GJ} \\right) Rd\\theta$$\n",
    "\n",
    "The displacement and rotation at the load point is determined using Castigliano's theorem.\n",
    "\n",
    "$$u_0 = \\frac{\\partial U}{\\partial P}, \\,\\,\\,\\,\\,\n",
    "\\phi_0 = \\frac{\\partial U}{\\partial Q}$$"
   ]
  },
  {
   "cell_type": "code",
   "execution_count": 3,
   "metadata": {
    "collapsed": false
   },
   "outputs": [
    {
     "data": {
      "image/png": "[encoded data removed]",
      "text/latex": [
       "$$\\left ( - \\frac{P R^{3}}{4 EI GJ} \\left(2 EI \\left(- \\pi + 3\\right) + GJ \\left(- \\pi + 2\\right)\\right), \\quad - \\frac{P R^{2}}{8 EI GJ} \\left(- \\pi + 2\\right) \\left(EI + GJ\\right)\\right )$$"
      ],
      "text/plain": [
       "⎛    3                                     2                    ⎞\n",
       "⎜-P⋅R ⋅(2⋅EI⋅(-π + 3) + GJ⋅(-π + 2))   -P⋅R ⋅(-π + 2)⋅(EI + GJ) ⎟\n",
       "⎜────────────────────────────────────, ─────────────────────────⎟\n",
       "⎝              4⋅EI⋅GJ                          8⋅EI⋅GJ         ⎠"
      ]
     },
     "execution_count": 3,
     "metadata": {},
     "output_type": "execute_result"
    }
   ],
   "source": [
    "# Strain energy in half the rim\n",
    "U = R*integrate(m**2/EI + t**2/GJ, (theta, 0, pi/2))\n",
    "\n",
    "u0 = diff(U, P).subs(Q, 0).simplify()\n",
    "phi0 = diff(U, Q).subs(Q, 0).simplify()\n",
    "\n",
    "u0, phi0"
   ]
  },
  {
   "cell_type": "markdown",
   "metadata": {
    "collapsed": true
   },
   "source": [
    "## Approximation using Rayleigh-Ritz method\n",
    "\n",
    "If we assume that the rim adopts a saddle shape, the displacement and rotation are given by\n",
    "\n",
    "$$u = u_0 \\cos{2\\theta}, \\,\\,\\,\\,\\,\n",
    "\\phi = \\phi_0 \\cos{2\\theta}$$\n",
    "\n",
    "The strain energy is given by\n",
    "\n",
    "$$U = 2\\int_0^{\\pi/2} \\left(\\frac{1}{2}EI \\kappa_2^2 + \\frac{1}{2}GJ \\kappa_3'^2\\right)$$\n",
    "\n",
    "where\n",
    "\n",
    "$$\\kappa_2 = u'' - \\phi/R$$\n",
    "$$\\kappa_3 = \\phi' + \\frac{1}{R}u'$$\n",
    "\n",
    "and $()'$ indicates a derivative with respect to arc length along the beam. The displacement and rotation can then be determined from the Rayleigh-Ritz equations.\n",
    "\n",
    "$$\\frac{\\partial U}{\\partial u_0} - P = 0, \\,\\,\\,\\,\\,\n",
    "\\frac{\\partial U}{\\partial \\phi_0} - Q = 0$$\n"
   ]
  },
  {
   "cell_type": "code",
   "execution_count": 4,
   "metadata": {
    "collapsed": false
   },
   "outputs": [
    {
     "data": {
      "image/png": "[encoded data removed]",
      "text/latex": [
       "$$\\frac{2 P R^{3} \\left(EI + 4 GJ\\right)}{9 \\pi EI GJ}$$"
      ],
      "text/plain": [
       "     3            \n",
       "2⋅P⋅R ⋅(EI + 4⋅GJ)\n",
       "──────────────────\n",
       "    9⋅π⋅EI⋅GJ     "
      ]
     },
     "execution_count": 4,
     "metadata": {},
     "output_type": "execute_result"
    }
   ],
   "source": [
    "n = symbols('n')\n",
    "k_bend = pi*EI/R**3 * (n**2-1)**2\n",
    "k_tors = pi*GJ/R**3 * (n**2-1)**2*n**2\n",
    "\n",
    "k_rim_2 = (k_bend*k_tors/(k_bend + k_tors)).subs(n, 2).simplify()\n",
    "u0_rr = 8*P / k_rim_2\n",
    "\n",
    "u0_rr"
   ]
  },
  {
   "cell_type": "code",
   "execution_count": 5,
   "metadata": {
    "collapsed": false
   },
   "outputs": [
    {
     "data": {
      "image/png": "[encoded data removed]",
      "text/latex": [
       "$$0.00088985705136309$$"
      ],
      "text/plain": [
       "0.000889857051363090"
      ]
     },
     "execution_count": 5,
     "metadata": {},
     "output_type": "execute_result"
    }
   ],
   "source": [
    "mu = symbols('mu')\n",
    "\n",
    "(1 - u0_rr / u0).subs([(EI, 1), (GJ, 0.001)]).evalf()"
   ]
  },
  {
   "cell_type": "code",
   "execution_count": null,
   "metadata": {
    "collapsed": true
   },
   "outputs": [],
   "source": []
  }
 ],
 "metadata": {
  "kernelspec": {
   "display_name": "Python 2",
   "language": "python",
   "name": "python2"
  },
  "language_info": {
   "codemirror_mode": {
    "name": "ipython",
    "version": 2
   },
   "file_extension": ".py",
   "mimetype": "text/x-python",
   "name": "python",
   "nbconvert_exporter": "python",
   "pygments_lexer": "ipython2",
   "version": "2.7.11"
  }
 },
 "nbformat": 4,
 "nbformat_minor": 0
}
