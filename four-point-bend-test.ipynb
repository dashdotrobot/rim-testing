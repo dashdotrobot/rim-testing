{
 "cells": [
  {
   "cell_type": "code",
   "execution_count": 1,
   "metadata": {
    "collapsed": false
   },
   "outputs": [],
   "source": [
    "# Setup\n",
    "%matplotlib inline\n",
    "from sympy import *\n",
    "import numpy as np\n",
    "import matplotlib.pyplot as pp\n",
    "init_printing()\n",
    "\n",
    "t, m, P, Q, theta = symbols('t m P Q theta', real=true)\n",
    "EI, GJ, R = symbols('EI GJ R', real=true, positive=true)"
   ]
  },
  {
   "cell_type": "markdown",
   "metadata": {},
   "source": [
    "# Four-point rim bending test\n",
    "\n",
    "In a four-point bending test, the rim is supported at 3 and 9 o'clock and loaded at 12 and 6 o'clock with a force $P$. A \"dummy torque\" $Q$ is applied at each point in the same sense as the rotation of the cross-section. Free-body diagrams of the complete rim and the upper section are shown below.\n",
    "\n",
    "![schematic1](https://raw.githubusercontent.com/dashdotrobot/rim-testing/master/4-pt-bend-figures-01.png)\n",
    "\n",
    "The symmetry of the problem gives us the following conditions:\n",
    "\n",
    "$$V_1 = -V_2$$\n",
    "$$T_1 = T_2$$\n",
    "$$M_1 = M_2$$\n",
    "\n",
    "Sum of forces in the z direction gives\n",
    "\n",
    "$$\\sum F_z = V_1 - V_2 - P=0$$\n",
    "$$V_1 = \\frac{P}{2}$$\n",
    "\n",
    "Sum of moments at the right end about the y-axis gives\n",
    "\n",
    "$$\\sum_{(2)} M_y = -T_1-T_2+2V_1 R-PR=0$$\n",
    "$$T_1 = T_2 = 0$$\n",
    "\n",
    "Sum of moments at the right end about the x-axis gives\n",
    "\n",
    "$$\\sum_{(2)} M_x = M_1+M_2-PR-Q=0$$\n",
    "$$M_1 = \\frac{PR}{2} + \\frac{Q}{2}$$\n",
    "\n",
    "The internal forces can now be determined by making a cut at an arbitrary location $\\theta$.\n",
    "\n",
    "![schematic2](https://raw.githubusercontent.com/dashdotrobot/rim-testing/master/4-pt-bend-figures-02.png)\n",
    "\n",
    "Sum of forces in the z direction gives\n",
    "\n",
    "$$\\sum F_z = V_1 - V=0$$\n",
    "$$V = \\frac{P}{2}$$\n",
    "\n",
    "Sum of moments at the left end about the x-axis gives\n",
    "\n",
    "$$\\sum_{(1)} M_x = M_1+T\\sin{\\theta}-M\\cos{\\theta}-\\frac{PR}{2}\\sin{\\theta}=0$$\n",
    "\n",
    "Sum of moments at the left end about the y-axis gives\n",
    "\n",
    "$$\\sum_{(1)} M_y = T\\cos{\\theta}+M\\sin{\\theta}+\\frac{PR}{2}(1-\\cos{\\theta})=0$$"
   ]
  },
  {
   "cell_type": "markdown",
   "metadata": {},
   "source": [
    "### Internal moment and torque from statics\n",
    "\n",
    "Together, the moment balances above form a simultaneous linear system for $T$ and $M$.\n",
    "\n",
    "$$T\\sin{\\theta}-M\\cos{\\theta}=\\frac{PR}{2}\\sin{\\theta}-\\frac{PR}{2}-\\frac{Q}{2}$$\n",
    "\n",
    "$$T\\cos{\\theta}+M\\sin{\\theta}+\\frac{PR}{2}(1-\\cos{\\theta})=0$$"
   ]
  },
  {
   "cell_type": "code",
   "execution_count": 2,
   "metadata": {
    "collapsed": false
   },
   "outputs": [
    {
     "data": {
      "image/png": "[encoded data removed]",
      "text/latex": [
       "$$\\left ( - \\frac{P R}{2} \\sqrt{2} \\sin{\\left (\\theta + \\frac{\\pi}{4} \\right )} + \\frac{P R}{2} - \\frac{Q}{2} \\sin{\\left (\\theta \\right )}, \\quad \\frac{P R}{2} \\sqrt{2} \\cos{\\left (\\theta + \\frac{\\pi}{4} \\right )} + \\frac{Q}{2} \\cos{\\left (\\theta \\right )}\\right )$$"
      ],
      "text/plain": [
       "⎛    ___        ⎛    π⎞                     ___        ⎛    π⎞           ⎞\n",
       "⎜  ╲╱ 2 ⋅P⋅R⋅sin⎜θ + ─⎟                   ╲╱ 2 ⋅P⋅R⋅cos⎜θ + ─⎟           ⎟\n",
       "⎜               ⎝    4⎠   P⋅R   Q⋅sin(θ)               ⎝    4⎠   Q⋅cos(θ)⎟\n",
       "⎜- ──────────────────── + ─── - ────────, ──────────────────── + ────────⎟\n",
       "⎝           2              2       2               2                2    ⎠"
      ]
     },
     "execution_count": 2,
     "metadata": {},
     "output_type": "execute_result"
    }
   ],
   "source": [
    "eq1 = t*sin(theta) - m*cos(theta) + P*R/2*(1 - sin(theta)) + Q/2\n",
    "eq2 = t*cos(theta) + m*sin(theta) + P*R/2*(1 - cos(theta))\n",
    "\n",
    "s_statics = solve([eq1, eq2], [t, m])\n",
    "\n",
    "t = s_statics[t]\n",
    "m = s_statics[m]\n",
    "t, m"
   ]
  },
  {
   "cell_type": "markdown",
   "metadata": {},
   "source": [
    "### Get Displacement and rotation from Castigliano's method\n",
    "\n",
    "The strain energy in the upper half of the rim is given by\n",
    "\n",
    "$$U = 2\\int_0^{\\pi/2} \\left(\\frac{M^2}{2EI} + \\frac{T^2}{2GJ} \\right) Rd\\theta$$\n",
    "\n",
    "The displacement and rotation at the load point is determined using Castigliano's theorem.\n",
    "\n",
    "$$u_0 = \\frac{\\partial U}{\\partial P}, \\,\\,\\,\\,\\,\n",
    "\\phi_0 = \\frac{\\partial U}{\\partial Q}$$\n",
    "\n",
    "This is the 'balanced' deflection, i.e. the vertical deflections at each load point assuming that the slope $\\frac{du}{ds}$ is zero at the supports. In an un-balanced 4-point bend test (three points are constrained and the third is loaded), the displacement will be $2u_0$."
   ]
  },
  {
   "cell_type": "code",
   "execution_count": 3,
   "metadata": {
    "collapsed": false
   },
   "outputs": [
    {
     "data": {
      "image/png": "[encoded data removed]",
      "text/latex": [
       "$$\\left ( - \\frac{P R^{3}}{4 EI GJ} \\left(2 EI \\left(- \\pi + 3\\right) + GJ \\left(- \\pi + 2\\right)\\right), \\quad - \\frac{P R^{2}}{8 EI GJ} \\left(- \\pi + 2\\right) \\left(EI + GJ\\right)\\right )$$"
      ],
      "text/plain": [
       "⎛    3                                     2                    ⎞\n",
       "⎜-P⋅R ⋅(2⋅EI⋅(-π + 3) + GJ⋅(-π + 2))   -P⋅R ⋅(-π + 2)⋅(EI + GJ) ⎟\n",
       "⎜────────────────────────────────────, ─────────────────────────⎟\n",
       "⎝              4⋅EI⋅GJ                          8⋅EI⋅GJ         ⎠"
      ]
     },
     "execution_count": 3,
     "metadata": {},
     "output_type": "execute_result"
    }
   ],
   "source": [
    "# Strain energy in half the rim\n",
    "U = R*integrate(m**2/EI + t**2/GJ, (theta, 0, pi/2))\n",
    "\n",
    "u0 = diff(U, P).subs(Q, 0).simplify()\n",
    "phi0 = diff(U, Q).subs(Q, 0).simplify()\n",
    "\n",
    "u0, phi0"
   ]
  },
  {
   "cell_type": "markdown",
   "metadata": {
    "collapsed": true
   },
   "source": [
    "## Approximation using Rayleigh-Ritz method\n",
    "\n",
    "If we assume that the rim adopts a saddle shape, the displacement and rotation are given by\n",
    "\n",
    "$$u = u_0 \\cos{2\\theta}, \\,\\,\\,\\,\\,\n",
    "\\phi = \\phi_0 \\cos{2\\theta}$$\n",
    "\n",
    "The strain energy is given by\n",
    "\n",
    "$$U = 4\\int_0^{\\pi/2} \\left(\\frac{1}{2}EI \\kappa_2^2 + \\frac{1}{2}GJ \\kappa_3^2\\right) Rd\\theta$$\n",
    "\n",
    "where\n",
    "\n",
    "$$\\kappa_2 = u'' + \\frac{\\phi}{R}$$\n",
    "\n",
    "$$\\kappa_3 = \\phi' - \\frac{1}{R}u'$$\n",
    "\n",
    "and $()'$ indicates a derivative with respect to arc length along the beam. The displacement and rotation can then be determined from the Rayleigh-Ritz equations.\n",
    "\n",
    "$$\\frac{\\partial U}{\\partial u_0} - 4P = 0, \\,\\,\\,\\,\\,\n",
    "\\frac{\\partial U}{\\partial \\phi_0} - 4Q = 0$$\n"
   ]
  },
  {
   "cell_type": "code",
   "execution_count": 4,
   "metadata": {
    "collapsed": false
   },
   "outputs": [
    {
     "data": {
      "image/png": "[encoded data removed]",
      "text/latex": [
       "$$\\left ( \\frac{2 P R^{3} \\left(EI + 4 GJ\\right)}{9 \\pi EI GJ}, \\quad \\frac{4 P R^{2} \\left(EI + GJ\\right)}{9 \\pi EI GJ}\\right )$$"
      ],
      "text/plain": [
       "⎛     3                   2          ⎞\n",
       "⎜2⋅P⋅R ⋅(EI + 4⋅GJ)  4⋅P⋅R ⋅(EI + GJ)⎟\n",
       "⎜──────────────────, ────────────────⎟\n",
       "⎝    9⋅π⋅EI⋅GJ          9⋅π⋅EI⋅GJ    ⎠"
      ]
     },
     "execution_count": 4,
     "metadata": {},
     "output_type": "execute_result"
    }
   ],
   "source": [
    "u2, phi2, theta = symbols('u_2 phi_2 theta', real=true)\n",
    "n = symbols('n', real=true, integer=true, positive=true)\n",
    "\n",
    "# kinematics\n",
    "u = u2 * cos(n*theta)\n",
    "phi = phi2 * cos(n*theta)\n",
    "k2 = (1/R**2)*diff(u, theta, theta) + phi/R\n",
    "k3 = (1/R)*diff(phi, theta) - (1/R**2)*diff(u, theta)\n",
    "\n",
    "# strain energy for 2nd mode\n",
    "U = 2*integrate((EI*k2**2 + GJ*k3**2)*R, (theta, 0, pi/2))\n",
    "U = U.subs(n, 2)\n",
    "\n",
    "# Solve Rayleigh-Ritz equations\n",
    "rr_soln = solve([diff(U, u2) - 4*P, diff(U, phi2) - 4*Q], [u2, phi2])\n",
    "\n",
    "u_rr = 2*rr_soln[u2].subs(Q, 0).simplify()\n",
    "phi_rr = rr_soln[phi2].subs(Q, 0).simplify()\n",
    "\n",
    "u_rr, phi_rr"
   ]
  },
  {
   "cell_type": "code",
   "execution_count": 5,
   "metadata": {
    "collapsed": false
   },
   "outputs": [
    {
     "name": "stdout",
     "output_type": "stream",
     "text": [
      "0.00308448422379114\n",
      "0.00860566976308683\n"
     ]
    }
   ],
   "source": [
    "# Relative error of Rayleigh-Ritz approximation\n",
    "print (1 - u_rr / u0).subs([(EI, 1), (GJ, 0.1)]).evalf()\n",
    "print (1 - phi_rr / phi0).subs([(EI, 1), (GJ, 0.1)]).evalf()"
   ]
  },
  {
   "cell_type": "markdown",
   "metadata": {},
   "source": [
    "## Measuring $GJ/EI$ with a horizontal bar\n",
    "\n",
    "Measuring the displacement only yields the combined stiffness. In order to separately determine $EI$ and $GJ$, the rotation must also be measured. This can be done by attaching a rod at the load point which points towards the center of the rim and finding the fixed point along the rod (point which neither rises nor falls when the load is applied)\n",
    "\n",
    "The location of the fixed point, measuring inward from the load point, is\n",
    "\n",
    "$$r_f = \\frac{u}{\\phi}$$"
   ]
  },
  {
   "cell_type": "code",
   "execution_count": 11,
   "metadata": {
    "collapsed": false
   },
   "outputs": [
    {
     "data": {
      "image/png": "[encoded data removed]",
      "text/plain": [
       "<matplotlib.figure.Figure at 0x875c208>"
      ]
     },
     "metadata": {},
     "output_type": "display_data"
    },
    {
     "data": {
      "image/png": "[encoded data removed]",
      "text/latex": [
       "$$\\mu = \\frac{- 14 r_{f} + 5 \\pi r_{f} - 8 \\pi + 24}{\\left(- \\pi + 2\\right) \\left(3 r_{f} - 4\\right)}$$"
      ],
      "text/plain": [
       "    -14⋅r_f + 5⋅π⋅r_f - 8⋅π + 24\n",
       "μ = ────────────────────────────\n",
       "        (-π + 2)⋅(3⋅r_f - 4)    "
      ]
     },
     "execution_count": 11,
     "metadata": {},
     "output_type": "execute_result"
    }
   ],
   "source": [
    "mu = symbols('mu')\n",
    "\n",
    "u_meas = 2*u0\n",
    "phi_meas = phi0 + u0/R\n",
    "r_rot = (u_meas / phi_meas).subs([(R, 1), (EI, 1), (GJ, mu)])\n",
    "\n",
    "m = np.logspace(-2, 0, 100)\n",
    "\n",
    "pp.semilogx(m, lambdify(mu, r_rot)(m), 'k')\n",
    "pp.xlabel('GJ/EI')\n",
    "pp.ylabel('Location of fixed point, r/R')\n",
    "pp.show()\n",
    "\n",
    "# Solve for mu\n",
    "rf = symbols('r_f', real=true)\n",
    "Eq(mu, solve(rf - r_rot, mu)[0])"
   ]
  },
  {
   "cell_type": "markdown",
   "metadata": {},
   "source": [
    "## Measuring $\\mu$ and $EI$ from 4-point-bend measurements\n",
    "\n",
    "In an un-balanced 4-point-bend test, we obtain two quantities:\n",
    "\n",
    "$$\\alpha=P/u$$\n",
    "\n",
    "$$\\beta=\\phi/u$$\n",
    "\n",
    "Note that $u=2u_0$ is the displacement of the load point in the un-balanced test. $\\phi$ is measured at one of the pinned supports."
   ]
  },
  {
   "cell_type": "code",
   "execution_count": 7,
   "metadata": {
    "collapsed": false
   },
   "outputs": [],
   "source": [
    "alpha, beta = symbols('alpha beta')\n",
    "\n",
    "EI_meas = solve(alpha - (P/(2*u0)).subs(GJ, EI*mu), EI)[0]\n",
    "GJ_meas = solve(alpha - (P/(2*u0)).subs(EI, GJ/mu), GJ)[0]\n",
    "mu_meas = solve(beta - (phi0/(2*u0)).subs([(EI, 1), (GJ, mu)]), mu)[0]"
   ]
  },
  {
   "cell_type": "code",
   "execution_count": 8,
   "metadata": {
    "collapsed": false
   },
   "outputs": [
    {
     "data": {
      "image/png": "[encoded data removed]",
      "text/latex": [
       "$$\\mu = \\frac{- 24 R \\beta + 8 \\pi R \\beta - \\pi + 2}{\\left(- \\pi + 2\\right) \\left(4 R \\beta - 1\\right)}$$"
      ],
      "text/plain": [
       "    -24⋅R⋅β + 8⋅π⋅R⋅β - π + 2\n",
       "μ = ─────────────────────────\n",
       "       (-π + 2)⋅(4⋅R⋅β - 1)  "
      ]
     },
     "execution_count": 8,
     "metadata": {},
     "output_type": "execute_result"
    }
   ],
   "source": [
    "Eq(mu, mu_meas)"
   ]
  },
  {
   "cell_type": "code",
   "execution_count": 9,
   "metadata": {
    "collapsed": false
   },
   "outputs": [
    {
     "data": {
      "image/png": "[encoded data removed]",
      "text/latex": [
       "$$EI = \\frac{R^{3} \\alpha}{2 \\mu} \\left(- 2 \\mu + \\pi \\mu - 6 + 2 \\pi\\right)$$"
      ],
      "text/plain": [
       "      3                         \n",
       "     R ⋅α⋅(-2⋅μ + π⋅μ - 6 + 2⋅π)\n",
       "EI = ───────────────────────────\n",
       "                 2⋅μ            "
      ]
     },
     "execution_count": 9,
     "metadata": {},
     "output_type": "execute_result"
    }
   ],
   "source": [
    "Eq(EI, EI_meas)"
   ]
  },
  {
   "cell_type": "code",
   "execution_count": 10,
   "metadata": {
    "collapsed": false
   },
   "outputs": [
    {
     "data": {
      "image/png": "[encoded data removed]",
      "text/latex": [
       "$$GJ = \\frac{R^{3} \\alpha}{2} \\left(- 2 \\mu + \\pi \\mu - 6 + 2 \\pi\\right)$$"
      ],
      "text/plain": [
       "      3                         \n",
       "     R ⋅α⋅(-2⋅μ + π⋅μ - 6 + 2⋅π)\n",
       "GJ = ───────────────────────────\n",
       "                  2             "
      ]
     },
     "execution_count": 10,
     "metadata": {},
     "output_type": "execute_result"
    }
   ],
   "source": [
    "Eq(GJ, GJ_meas)"
   ]
  },
  {
   "cell_type": "code",
   "execution_count": null,
   "metadata": {
    "collapsed": true
   },
   "outputs": [],
   "source": []
  }
 ],
 "metadata": {
  "kernelspec": {
   "display_name": "Python 2",
   "language": "python",
   "name": "python2"
  },
  "language_info": {
   "codemirror_mode": {
    "name": "ipython",
    "version": 2
   },
   "file_extension": ".py",
   "mimetype": "text/x-python",
   "name": "python",
   "nbconvert_exporter": "python",
   "pygments_lexer": "ipython2",
   "version": "2.7.11"
  }
 },
 "nbformat": 4,
 "nbformat_minor": 0
}
